{
 "cells": [
  {
   "cell_type": "markdown",
   "metadata": {},
   "source": [
    "# The Monty Hall Problem\n",
    "\n",
    "## Introduction\n",
    "\n",
    "The Monty Hall problem is a famous little puzzle from a game show. It goes like this: you are presented with 3 doors. Behind two are goats and behind the third is a car. You are asked to select a door; if you select the door with the car, you win! After selecting, the host then opens one of the remaining two doors, revealing a goat. The host then asks if you would like to switch doors or stick with your original choice. What would you do? Does it matter?\n",
    "\n",
    "<img src=\"images/Image_58_MontyHall.png\">\n",
    "\n",
    "## Objectives\n",
    "\n",
    "In this lab you will:\n",
    "\n",
    "- Use Bayes' theorem along with a simulation to solve the Monty Hall problem"
   ]
  },
  {
   "cell_type": "markdown",
   "metadata": {},
   "source": [
    "## Run a simulation\n",
    "\n",
    "This is not a traditional application of Bayes' theorem, so trying to formulate the problem as such is tricky at best. That said, the scenario does capture the motivating conception behind Bayesian statistics: updating our beliefs in the face of additional evidence. With this, you'll employ another frequently used tool Bayesians frequently employ, running simulations. To do this, generate a random integer between one and three to represent the door hiding the car. Then, generate a second integer between one and three representing the player's selection. Then, of those the contestant did not choose, select a door concealing a goat to reveal. Record the results of the simulated game if they changed versus if they did not. Repeat this process a thousand (or more) times. Finally, plot the results of your simulation as a line graph. The x-axis should be the number of simulations, and the y-axis should be the probability of winning. (There should be two lines on the graph, one for switching doors, and the other for keeping the original selection.)"
   ]
  },
  {
   "cell_type": "code",
   "execution_count": 49,
   "metadata": {},
   "outputs": [],
   "source": [
    "import numpy as np\n",
    "import matplotlib.pyplot as plt"
   ]
  },
  {
   "cell_type": "code",
   "execution_count": 94,
   "metadata": {},
   "outputs": [],
   "source": [
    "# Repeat this process a thousand (or more) times. Finally, plot the results of your simulation as a line graph. \n",
    "# The x-axis should be the number of simulations, and the y-axis should be the probability of winning. \n",
    "# (There should be two lines on the graph, one for switching doors, and the other for keeping the original selection.)\n",
    "\n",
    "\n",
    "\n",
    "def montyhall(number_of_repeats):\n",
    "    x=[]\n",
    "    ykeep=[]\n",
    "    ychange=[]\n",
    "    for i in range(number_of_repeats):\n",
    "        # To do this, generate a random integer between one and three to represent the door hiding the car. \n",
    "        door_car=np.random.randint(1,4)\n",
    "\n",
    "        # Then, generate a second integer between one and three representing the player's selection. \n",
    "        player_selec=np.random.randint(1,4)\n",
    "\n",
    "        # Then, of those the contestant did not choose, select a door concealing a goat to reveal. \n",
    "        listo = [1,2,3]\n",
    "        listo.remove(player_selec)\n",
    "        if door_car != player_selec:\n",
    "            listo.remove(door_car)\n",
    "        listo = np.array(listo)\n",
    "        door_goat_reveal = np.random.choice(listo)\n",
    "        \n",
    "        # Then, assuming the contestant choses to change his first choice, contestant second \"choice\" is: \n",
    "        listu = [1,2,3]\n",
    "        listu.remove(player_selec)\n",
    "        listu.remove(door_goat_reveal)\n",
    "        player_selec_two = int(listu[0])\n",
    "        \n",
    "        # Record the results of the simulated game if they changed versus if they did not. \n",
    "        x.append(i+1)\n",
    "        if door_car == player_selec:\n",
    "            ykeep.append(1)\n",
    "        else:\n",
    "            ykeep.append(0)\n",
    "        if door_car == player_selec_two: \n",
    "            ychange.append(1)    \n",
    "        else:\n",
    "            ychange.append(0)    \n",
    "    # graph:\n",
    "    # x = 1, 2, 3,4,5,6... n\n",
    "    # ykeep   = prob of winning after x times if keeping 1st door choice \n",
    "    # ychange = prob of winning after x times if changing door choice \n",
    "\n",
    "    ykeepfr=(np.cumsum(ykeep))/x\n",
    "    ychangefr=(np.cumsum(ychange))/x\n",
    "    \n",
    "    plt.figure(figsize=(8,5))\n",
    "    plt.plot(x,ykeepfr,label = 'cumulative wins when always KEEPING original door choice',)\n",
    "    plt.plot(x,ychangefr,label = 'cumulative wins when always CHANGING original door choice' )\n",
    "    plt.legend()\n",
    "    plt.show();\n",
    "    \n",
    "    i=+1\n",
    "    \n",
    "    return ykeepfr[number_of_repeats-1],ychangefr[number_of_repeats-1]\n",
    "\n",
    "\n"
   ]
  },
  {
   "cell_type": "code",
   "execution_count": 96,
   "metadata": {},
   "outputs": [
    {
     "data": {
      "image/png": "[encoded data removed]",
      "text/plain": [
       "<Figure size 576x360 with 1 Axes>"
      ]
     },
     "metadata": {
      "needs_background": "light"
     },
     "output_type": "display_data"
    },
    {
     "name": "stdout",
     "output_type": "stream",
     "text": [
      "keep,change prob =  0.332 0.668\n"
     ]
    }
   ],
   "source": [
    "keep,change = player_selec_two=montyhall(10000)\n",
    "print('keep,change prob = ', keep, change)"
   ]
  },
  {
   "cell_type": "markdown",
   "metadata": {},
   "source": [
    "## Summary\n",
    "\n",
    "In this lab, you further investigated the idea of Bayes' theorem and Bayesian statistics in general through the Monty Hall problem. Hopefully, this was an entertaining little experience! "
   ]
  },
  {
   "cell_type": "code",
   "execution_count": null,
   "metadata": {},
   "outputs": [],
   "source": []
  }
 ],
 "metadata": {
  "kernelspec": {
   "display_name": "Python 3",
   "language": "python",
   "name": "python3"
  },
  "language_info": {
   "codemirror_mode": {
    "name": "ipython",
    "version": 3
   },
   "file_extension": ".py",
   "mimetype": "text/x-python",
   "name": "python",
   "nbconvert_exporter": "python",
   "pygments_lexer": "ipython3",
   "version": "3.6.9"
  },
  "toc": {
   "base_numbering": 1,
   "nav_menu": {},
   "number_sections": true,
   "sideBar": true,
   "skip_h1_title": false,
   "title_cell": "Table of Contents",
   "title_sidebar": "Contents",
   "toc_cell": false,
   "toc_position": {},
   "toc_section_display": true,
   "toc_window_display": false
  }
 },
 "nbformat": 4,
 "nbformat_minor": 2
}
